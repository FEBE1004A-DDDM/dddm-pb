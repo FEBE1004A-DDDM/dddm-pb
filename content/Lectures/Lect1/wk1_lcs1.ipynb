{
 "cells": [
  {
   "cell_type": "markdown",
   "metadata": {},
   "source": [
    "## Do not change the code in the cell below ##"
   ]
  },
  {
   "cell_type": "code",
   "execution_count": null,
   "metadata": {},
   "outputs": [],
   "source": [
    "# The pip install can take a minute\n",
    "%pip install -q urllib3<2.0 datascience ipywidgets\n",
    "import pyodide_http\n",
    "pyodide_http.patch_all()\n",
    "\n",
    "from datascience import *\n",
    "import numpy as np\n",
    "%matplotlib inline\n",
    "import matplotlib.pyplot as plots\n",
    "plots.style.use('fivethirtyeight')\n",
    "import warnings\n",
    "warnings.simplefilter(action=\"ignore\", category=FutureWarning)"
   ]
  },
  {
   "cell_type": "markdown",
   "metadata": {},
   "source": [
    "**Note:** In this lecture there is a lot of code. You are not expected to know any of this yet. This is just a preview of the things you will see in the next few weeks. \n"
   ]
  },
  {
   "cell_type": "markdown",
   "metadata": {},
   "source": [
    "## This is a Jupyter Notebook\n",
    "\n",
    "A Jupyter Notebook is a data-science environment that combines:\n",
    "\n",
    "1. **Narrative:** The text describing your analysis\n",
    "2. **Code:** The program that does the analysis\n",
    "3. **Results:** The output of the program\n",
    "\n",
    "The Jupyter environment was created by faculty members at University of California, Berkeley (Fernando Perez). These ideas are now in a lot of different technologies (e.g., Google Collab). \n"
   ]
  },
  {
   "cell_type": "markdown",
   "metadata": {},
   "source": [
    "## Our first example: analyzing the text of popular books"
   ]
  },
  {
   "cell_type": "markdown",
   "metadata": {},
   "source": [
    "We can use the tools of data science to study text.  For example, here we will do some basic analysis of *[\"The Picture of Dorian Gray\"](https://en.wikipedia.org/wiki/The_Picture_of_Dorian_Gray)* (by Oscar Wilde) and from *[\"A Tale of Two Cities\"](https://en.wikipedia.org/wiki/A_Tale_of_Two_Cities)* (by Charles Dickens).  \n",
    "\n",
    " \n",
    "\n",
    "Often the first step in data sciences is getting the data.  The following is a tiny program to download text from the web. More specifically, what you see below is a **function**. We will talk more about functions later on!"
   ]
  },
  {
   "cell_type": "code",
   "execution_count": null,
   "metadata": {},
   "outputs": [],
   "source": [
    "# A tiny program to download text from the web.\n",
    "def read_url(url): \n",
    "    from urllib.request import urlopen \n",
    "    import re\n",
    "    return re.sub('\\\\s+', ' ', urlopen(url).read().decode())"
   ]
  },
  {
   "cell_type": "markdown",
   "metadata": {},
   "source": [
    "Here we download the books, which are actually hosted on the Project Gutenberg website."
   ]
  },
  {
   "cell_type": "code",
   "execution_count": null,
   "metadata": {},
   "outputs": [],
   "source": [
    "dorian_gray_url = 'https://www.gutenberg.org/cache/epub/174/pg174.txt'\n",
    "dorian_gray_text = read_url(dorian_gray_url)\n",
    "dorian_gray_chapters = dorian_gray_text.split('CHAPTER ')[21:]"
   ]
  },
  {
   "cell_type": "code",
   "execution_count": null,
   "metadata": {},
   "outputs": [],
   "source": [
    "tale_of_two_cities_url = 'https://www.gutenberg.org/cache/epub/98/pg98.txt'\n",
    "tale_of_two_cities_text = read_url(tale_of_two_cities_url)\n",
    "tale_of_two_cities_chapters = tale_of_two_cities_text.split('CHAPTER ')[46:]"
   ]
  },
  {
   "cell_type": "markdown",
   "metadata": {},
   "source": [
    "Let's look at the text from the first chapter of The Picture of Dorian Gray\n",
    ":"
   ]
  },
  {
   "cell_type": "code",
   "execution_count": null,
   "metadata": {},
   "outputs": [],
   "source": [
    "dorian_gray_chapters"
   ]
  },
  {
   "cell_type": "markdown",
   "metadata": {},
   "source": [
    "## Tables\n",
    "\n",
    "- A lot of data science is about transforming data. This is often in service of producing **tables**, a widely used data structure that we can more easily analyze our data with. \n",
    "- In this class you will use the `datascience` library (specifically created for this course!!) to manipulate and data."
   ]
  },
  {
   "cell_type": "code",
   "execution_count": null,
   "metadata": {},
   "outputs": [],
   "source": [
    "import datascience\n",
    "datascience.__version__"
   ]
  },
  {
   "cell_type": "code",
   "execution_count": null,
   "metadata": {},
   "outputs": [],
   "source": [
    "from datascience import *"
   ]
  },
  {
   "cell_type": "code",
   "execution_count": null,
   "metadata": {},
   "outputs": [],
   "source": [
    "Table().with_column('Chapters', dorian_gray_chapters)"
   ]
  },
  {
   "cell_type": "markdown",
   "metadata": {},
   "source": [
    "## We will learn to summarize data"
   ]
  },
  {
   "cell_type": "markdown",
   "metadata": {},
   "source": [
    "We will explore data by extracting summaries. For example, we might ask, how often characters appeared in each chapter. We can use snippets of code to answer these questions."
   ]
  },
  {
   "cell_type": "code",
   "execution_count": null,
   "metadata": {},
   "outputs": [],
   "source": [
    "import numpy as np"
   ]
  },
  {
   "cell_type": "code",
   "execution_count": null,
   "metadata": {},
   "outputs": [],
   "source": [
    "np.char.count(dorian_gray_chapters, 'Dorian')"
   ]
  },
  {
   "cell_type": "code",
   "execution_count": null,
   "metadata": {},
   "outputs": [],
   "source": [
    "np.char.count(dorian_gray_chapters, 'Henry')"
   ]
  },
  {
   "cell_type": "code",
   "execution_count": null,
   "metadata": {},
   "outputs": [],
   "source": [
    "np.char.count(dorian_gray_chapters, 'Basil')"
   ]
  },
  {
   "cell_type": "markdown",
   "metadata": {},
   "source": [
    "We can convert the results of our analysis into more tables."
   ]
  },
  {
   "cell_type": "code",
   "execution_count": null,
   "metadata": {},
   "outputs": [],
   "source": [
    "counts = Table().with_columns([\n",
    "    'Dorian', np.char.count(dorian_gray_chapters, 'Dorian'),\n",
    "    'Henry', np.char.count(dorian_gray_chapters, 'Henry'),\n",
    "    'Basil', np.char.count(dorian_gray_chapters, 'Basil'),\n",
    "])\n",
    "counts"
   ]
  },
  {
   "cell_type": "markdown",
   "metadata": {},
   "source": [
    "## We will learn to visualize data"
   ]
  },
  {
   "cell_type": "markdown",
   "metadata": {},
   "source": [
    "- How many times is each character mentioned in Chapter 1, how many times in Chapters 1 and 2, and so on?\n",
    "- As we saw above, we could answer this with a table, but there are a lot of chapters!! Let's try something else."
   ]
  },
  {
   "cell_type": "code",
   "execution_count": null,
   "metadata": {},
   "outputs": [],
   "source": [
    "%matplotlib inline\n",
    "import matplotlib.pyplot as plt\n",
    "plt.style.use('fivethirtyeight')\n",
    "cum_counts_dorian = np.cumsum(counts.column(\"Dorian\"))\n",
    "cum_counts_henry = np.cumsum(counts.column(\"Henry\"))\n",
    "cum_counts_basil = np.cumsum(counts.column(\"Basil\"))\n",
    "cumulative_table = Table().with_columns(\n",
    "    'Chapter', np.arange(1, 21, 1),\n",
    "    'Dorian', cum_counts_dorian,\n",
    "    'Henry', cum_counts_henry,\n",
    "    'Basil', cum_counts_basil\n",
    ")\n",
    "cumulative_table.plot(column_for_xticks='Chapter')\n",
    "plt.title('Cumulative Number of Times Name Appears')\n",
    "plt.show()"
   ]
  },
  {
   "cell_type": "markdown",
   "metadata": {},
   "source": [
    "Here, we have plotted what we call *cumulative counts*."
   ]
  },
  {
   "cell_type": "markdown",
   "metadata": {},
   "source": [
    "What can we tell from this visualization?  What questions does this raise about the roles of Dorian, Henry and Basil in the book?"
   ]
  },
  {
   "cell_type": "code",
   "execution_count": null,
   "metadata": {},
   "outputs": [],
   "source": [
    "# The chapters of A tale of two cities\n",
    "Table().with_column('Chapters', tale_of_two_cities_chapters)"
   ]
  },
  {
   "cell_type": "markdown",
   "metadata": {},
   "source": [
    "We can explore the characters in A tale of two cities using the same kind of analysis."
   ]
  },
  {
   "cell_type": "code",
   "execution_count": null,
   "metadata": {},
   "outputs": [],
   "source": [
    "# Counts of names in the chapters of a tale of two cities\n",
    "names = ['Charles', 'Sydney', 'Lucie', 'Alexandre', 'Madame Defarge', 'Monsieur Defarge']\n",
    "mentions = {name: np.char.count(tale_of_two_cities_chapters, name) for name in names}\n",
    "counts = Table().with_columns([\n",
    "        'Charles', mentions['Charles'],\n",
    "        'Sydney', mentions['Sydney'],\n",
    "        'Lucie', mentions['Lucie'],\n",
    "        'Alexandre', mentions['Alexandre'],\n",
    "        'Madame Defarge', mentions['Madame Defarge'],\n",
    "        'Monsieur Defarge', mentions['Monsieur Defarge']\n",
    "    ])"
   ]
  },
  {
   "cell_type": "code",
   "execution_count": null,
   "metadata": {},
   "outputs": [],
   "source": [
    "# Plot the cumulative counts\n",
    "cum_counts_charles = np.cumsum(counts.column(\"Charles\"))\n",
    "cum_counts_sydney = np.cumsum(counts.column(\"Sydney\"))\n",
    "cum_counts_lucie = np.cumsum(counts.column(\"Lucie\"))\n",
    "cum_counts_alexandre = np.cumsum(counts.column(\"Alexandre\"))\n",
    "cum_counts_madame_defarge = np.cumsum(counts.column(\"Madame Defarge\"))\n",
    "cum_counts_monsieur_defarge = np.cumsum(counts.column(\"Monsieur Defarge\"))\n",
    "\n",
    "cumulative_table = Table().with_columns(\n",
    "    'Chapter', np.arange(1, 46, 1),\n",
    "    'Charles', cum_counts_charles,\n",
    "    'Sydney', cum_counts_sydney,\n",
    "    'Lucie', cum_counts_lucie,\n",
    "    'Alexandre', cum_counts_alexandre,\n",
    "    'Madame Defarge', cum_counts_madame_defarge,\n",
    "    'Monsieur Defarge', cum_counts_monsieur_defarge,\n",
    ")\n",
    "\n",
    "cumulative_table.plot(column_for_xticks='Chapter')\n",
    "plt.title('Cumulative Number of Times Names Appear in A Tale of Two Cities')\n",
    "plt.show()"
   ]
  },
  {
   "cell_type": "markdown",
   "metadata": {},
   "source": [
    "We can use interactive tools as well!"
   ]
  },
  {
   "cell_type": "code",
   "execution_count": null,
   "metadata": {},
   "outputs": [],
   "source": [
    "# Plot the cumulative counts\n",
    "Table.interactive_plots()\n",
    "cumulative_table.plot(column_for_xticks=0)"
   ]
  },
  {
   "cell_type": "markdown",
   "metadata": {},
   "source": [
    "## Visualizing multiple variables\n",
    "\n",
    "- How long are the chapters in a book?\n",
    "- How many sentences are in a chapter? We can find where a period (full-stop) is used as a tool to help us determine this.\n",
    "\n",
    "You don't need to worry about understanding the code below for today!!\n"
   ]
  },
  {
   "cell_type": "code",
   "execution_count": null,
   "metadata": {},
   "outputs": [],
   "source": [
    "len(read_url(dorian_gray_url))"
   ]
  },
  {
   "cell_type": "code",
   "execution_count": null,
   "metadata": {},
   "outputs": [],
   "source": [
    "# In each chapter, count the number of all characters;\n",
    "# call this the \"length\" of the chapter.\n",
    "# Also count the number of periods (full-stops).\n",
    "\n",
    "length_tpdg = Table().with_columns([\n",
    "        'Length', [len(s) for s in dorian_gray_chapters],\n",
    "        'Periods', np.char.count(dorian_gray_chapters, '.')\n",
    "    ])\n",
    "length_atotc = Table().with_columns([\n",
    "        'Length', [len(s) for s in tale_of_two_cities_chapters],\n",
    "        'Periods', np.char.count(tale_of_two_cities_chapters, '.')\n",
    "    ])"
   ]
  },
  {
   "cell_type": "code",
   "execution_count": null,
   "metadata": {},
   "outputs": [],
   "source": [
    "# The counts for The Picture of Dorian Gray\n",
    "length_tpdg"
   ]
  },
  {
   "cell_type": "code",
   "execution_count": null,
   "metadata": {},
   "outputs": [],
   "source": [
    "# The counts for A tale of two cities\n",
    "length_atotc"
   ]
  },
  {
   "cell_type": "markdown",
   "metadata": {},
   "source": [
    "Now that we have a table for each book giving us the information on:\n",
    "\n",
    "- length per chapter\n",
    "- of periods per chapter\n",
    "\n",
    "We might consider examining how these two variables are related. Below is what is called a **scatter plot** (we will talk more in depth about this plot later on)!"
   ]
  },
  {
   "cell_type": "code",
   "execution_count": null,
   "metadata": {},
   "outputs": [],
   "source": [
    "Table.static_plots()\n",
    "plt.figure(figsize=(10,10))\n",
    "plt.scatter(length_tpdg[1], length_tpdg[0], color='darkblue')\n",
    "plt.scatter(length_atotc[1], length_atotc[0], color='gold')\n",
    "plt.xlabel('Number of periods in chapter')\n",
    "plt.ylabel('Number of characters in chapter');\n",
    "plt.title('Relationship between numbers of characters and periods in a chapter');"
   ]
  },
  {
   "cell_type": "markdown",
   "metadata": {},
   "source": [
    "This sub-example illustrates the relationship between difference facets of our course: namely, the exploration and prediction facets. "
   ]
  }
 ],
 "metadata": {
  "anaconda-cloud": {},
  "celltoolbar": "Raw Cell Format",
  "kernelspec": {
   "display_name": "Python 3 (ipykernel)",
   "language": "python",
   "name": "python3"
  },
  "language_info": {
   "codemirror_mode": {
    "name": "ipython",
    "version": 3
   },
   "file_extension": ".py",
   "mimetype": "text/x-python",
   "name": "python",
   "nbconvert_exporter": "python",
   "pygments_lexer": "ipython3",
   "version": "3.12.3"
  },
  "vscode": {
   "interpreter": {
    "hash": "cf21ed8e1a65c559da2cb273a11174743e2e2b37c54da2273cb868ae002ee465"
   }
  }
 },
 "nbformat": 4,
 "nbformat_minor": 4
}
